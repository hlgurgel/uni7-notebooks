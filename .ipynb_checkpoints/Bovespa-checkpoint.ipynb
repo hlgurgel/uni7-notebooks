{
 "cells": [
  {
   "cell_type": "markdown",
   "metadata": {},
   "source": [
    "# Predizendo boas oportunidades"
   ]
  },
  {
   "cell_type": "markdown",
   "metadata": {},
   "source": [
    "#### Alunos: Hélder Gurgel e Raphaella Medeiros"
   ]
  },
  {
   "cell_type": "markdown",
   "metadata": {},
   "source": [
    "A finalidade do trabalho é identificar boas oportunidades de negócios considerando os papeis listados na BOVESPA. \n",
    "\n",
    "<font color='red'>**ATENÇÃO!**</font> Em nenhum momento apresentamos sugestões de compras ou afirmamos que os valores mostrados pela execução deste notebook são oportunidades de ganhos certos. Temos o único interesse de selecionar, por uso dos algorítmos de aprendizado de máquina, algumas opções de comprar para auxiliar o corretor de valor e obter nota máxima na cadeira de Análise Preditiva no UNI7."
   ]
  },
  {
   "cell_type": "markdown",
   "metadata": {},
   "source": [
    "## Obtendo os valores das cotações"
   ]
  },
  {
   "cell_type": "markdown",
   "metadata": {},
   "source": [
    "A BOVESPA disponibiliza por meio de seu [site](http://www.bmfbovespa.com.br/pt_br/servicos/market-data/historico/mercado-a-vista/cotacoes-historicas/) todas as cotações até a data de ontem. \n",
    "\n",
    "Para a excução do script aqui apresentado, fizemos o download somente das informações do ano de 2018.\n",
    "\n",
    "<font color='blue'>**NOTA:**</font> o porque escolher somente tais campos e o que eles representam para nós serão detalhados no decorrer deste *notebook*"
   ]
  },
  {
   "cell_type": "code",
   "execution_count": 1,
   "metadata": {},
   "outputs": [],
   "source": [
    "import pandas as pd"
   ]
  },
  {
   "cell_type": "code",
   "execution_count": 17,
   "metadata": {},
   "outputs": [],
   "source": [
    "def to_float(x): return float(x)/100"
   ]
  },
  {
   "cell_type": "code",
   "execution_count": 22,
   "metadata": {},
   "outputs": [],
   "source": [
    "bovespa = pd.read_fwf(\"bases/COTAHIST_A2018.TXT\", \\\n",
    "            header=None, skiprows=1, skipfooter=1, \\\n",
    "            colspecs=[[12,24],[2,10],[56,69],[69,82],[82,95],[95,108],[108,121],[121,134],[134,147],[152,170]], \\\n",
    "            names=['CODNEG','DATAPREGAO','PREABE','PREMAX','PREMIN','PREMED','PREULT','PREOFC','PREOFV','QUATOT'], \\\n",
    "            converters = {\n",
    "                'PREABE': to_float,\n",
    "                'PREMAX': to_float,\n",
    "                'PREMIN': to_float,\n",
    "                'PREMED': to_float,\n",
    "                'PREULT': to_float,\n",
    "                'PREOFC': to_float,\n",
    "                'PREOFV': to_float\n",
    "            })"
   ]
  },
  {
   "cell_type": "code",
   "execution_count": 24,
   "metadata": {},
   "outputs": [
    {
     "data": {
      "text/html": [
       "<div>\n",
       "<style scoped>\n",
       "    .dataframe tbody tr th:only-of-type {\n",
       "        vertical-align: middle;\n",
       "    }\n",
       "\n",
       "    .dataframe tbody tr th {\n",
       "        vertical-align: top;\n",
       "    }\n",
       "\n",
       "    .dataframe thead th {\n",
       "        text-align: right;\n",
       "    }\n",
       "</style>\n",
       "<table border=\"1\" class=\"dataframe\">\n",
       "  <thead>\n",
       "    <tr style=\"text-align: right;\">\n",
       "      <th></th>\n",
       "      <th>CODNEG</th>\n",
       "      <th>DATAPREGAO</th>\n",
       "      <th>PREABE</th>\n",
       "      <th>PREMAX</th>\n",
       "      <th>PREMIN</th>\n",
       "      <th>PREMED</th>\n",
       "      <th>PREULT</th>\n",
       "      <th>PREOFC</th>\n",
       "      <th>PREOFV</th>\n",
       "      <th>QUATOT</th>\n",
       "    </tr>\n",
       "  </thead>\n",
       "  <tbody>\n",
       "    <tr>\n",
       "      <th>0</th>\n",
       "      <td>AALR3</td>\n",
       "      <td>20180102</td>\n",
       "      <td>14.94</td>\n",
       "      <td>15.16</td>\n",
       "      <td>14.70</td>\n",
       "      <td>14.84</td>\n",
       "      <td>14.89</td>\n",
       "      <td>14.75</td>\n",
       "      <td>14.89</td>\n",
       "      <td>94500</td>\n",
       "    </tr>\n",
       "    <tr>\n",
       "      <th>1</th>\n",
       "      <td>AALR3F</td>\n",
       "      <td>20180102</td>\n",
       "      <td>14.79</td>\n",
       "      <td>14.93</td>\n",
       "      <td>14.79</td>\n",
       "      <td>14.86</td>\n",
       "      <td>14.80</td>\n",
       "      <td>14.73</td>\n",
       "      <td>15.16</td>\n",
       "      <td>225</td>\n",
       "    </tr>\n",
       "    <tr>\n",
       "      <th>2</th>\n",
       "      <td>AAPL34</td>\n",
       "      <td>20180102</td>\n",
       "      <td>56.81</td>\n",
       "      <td>56.81</td>\n",
       "      <td>56.30</td>\n",
       "      <td>56.38</td>\n",
       "      <td>56.30</td>\n",
       "      <td>55.00</td>\n",
       "      <td>56.30</td>\n",
       "      <td>900</td>\n",
       "    </tr>\n",
       "    <tr>\n",
       "      <th>3</th>\n",
       "      <td>AAPL34F</td>\n",
       "      <td>20180102</td>\n",
       "      <td>56.81</td>\n",
       "      <td>65.00</td>\n",
       "      <td>56.54</td>\n",
       "      <td>59.63</td>\n",
       "      <td>56.54</td>\n",
       "      <td>54.59</td>\n",
       "      <td>62.00</td>\n",
       "      <td>61</td>\n",
       "    </tr>\n",
       "    <tr>\n",
       "      <th>4</th>\n",
       "      <td>ABCB2</td>\n",
       "      <td>20180102</td>\n",
       "      <td>4.11</td>\n",
       "      <td>4.20</td>\n",
       "      <td>4.11</td>\n",
       "      <td>4.14</td>\n",
       "      <td>4.20</td>\n",
       "      <td>4.13</td>\n",
       "      <td>6.00</td>\n",
       "      <td>1200</td>\n",
       "    </tr>\n",
       "  </tbody>\n",
       "</table>\n",
       "</div>"
      ],
      "text/plain": [
       "    CODNEG  DATAPREGAO  PREABE  PREMAX  PREMIN  PREMED  PREULT  PREOFC  \\\n",
       "0    AALR3    20180102   14.94   15.16   14.70   14.84   14.89   14.75   \n",
       "1   AALR3F    20180102   14.79   14.93   14.79   14.86   14.80   14.73   \n",
       "2   AAPL34    20180102   56.81   56.81   56.30   56.38   56.30   55.00   \n",
       "3  AAPL34F    20180102   56.81   65.00   56.54   59.63   56.54   54.59   \n",
       "4    ABCB2    20180102    4.11    4.20    4.11    4.14    4.20    4.13   \n",
       "\n",
       "   PREOFV  QUATOT  \n",
       "0   14.89   94500  \n",
       "1   15.16     225  \n",
       "2   56.30     900  \n",
       "3   62.00      61  \n",
       "4    6.00    1200  "
      ]
     },
     "execution_count": 24,
     "metadata": {},
     "output_type": "execute_result"
    }
   ],
   "source": [
    "bovespa.head(5)"
   ]
  },
  {
   "cell_type": "markdown",
   "metadata": {},
   "source": [
    "## Modificando base original"
   ]
  },
  {
   "cell_type": "markdown",
   "metadata": {},
   "source": [
    "### Identificando \"boas oportunidades\""
   ]
  },
  {
   "cell_type": "markdown",
   "metadata": {},
   "source": [
    "O primeiro desafio é identificar o que vamos considerar como uma boa oportunidade de compra. Decidimos por \"boa oportunidades\" àqueles papéis que valorizaram pelo menos 2% no dia."
   ]
  },
  {
   "cell_type": "code",
   "execution_count": 31,
   "metadata": {},
   "outputs": [],
   "source": [
    "#PREABE = preço de abertura\n",
    "#PREULT = preço de fechamento (ou última negociação)\n",
    "#Todos os campos calculados terão o _ como prefixo\n",
    "\n",
    "bovespa['_VALORIZACAO'] = 1 - bovespa['PREABE']/bovespa['PREULT'] \n",
    "bovespa['_BOAOPORTUNIDADE'] = bovespa['_VALORIZACAO'] >= 0.02"
   ]
  },
  {
   "cell_type": "code",
   "execution_count": 32,
   "metadata": {},
   "outputs": [
    {
     "data": {
      "text/html": [
       "<div>\n",
       "<style scoped>\n",
       "    .dataframe tbody tr th:only-of-type {\n",
       "        vertical-align: middle;\n",
       "    }\n",
       "\n",
       "    .dataframe tbody tr th {\n",
       "        vertical-align: top;\n",
       "    }\n",
       "\n",
       "    .dataframe thead th {\n",
       "        text-align: right;\n",
       "    }\n",
       "</style>\n",
       "<table border=\"1\" class=\"dataframe\">\n",
       "  <thead>\n",
       "    <tr style=\"text-align: right;\">\n",
       "      <th></th>\n",
       "      <th>CODNEG</th>\n",
       "      <th>DATAPREGAO</th>\n",
       "      <th>PREABE</th>\n",
       "      <th>PREMAX</th>\n",
       "      <th>PREMIN</th>\n",
       "      <th>PREMED</th>\n",
       "      <th>PREULT</th>\n",
       "      <th>PREOFC</th>\n",
       "      <th>PREOFV</th>\n",
       "      <th>QUATOT</th>\n",
       "      <th>_VALORIZACAO</th>\n",
       "      <th>_BOAOPORTUNIDADE</th>\n",
       "    </tr>\n",
       "  </thead>\n",
       "  <tbody>\n",
       "    <tr>\n",
       "      <th>0</th>\n",
       "      <td>AALR3</td>\n",
       "      <td>20180102</td>\n",
       "      <td>14.94</td>\n",
       "      <td>15.16</td>\n",
       "      <td>14.70</td>\n",
       "      <td>14.84</td>\n",
       "      <td>14.89</td>\n",
       "      <td>14.75</td>\n",
       "      <td>14.89</td>\n",
       "      <td>94500</td>\n",
       "      <td>-0.003358</td>\n",
       "      <td>False</td>\n",
       "    </tr>\n",
       "    <tr>\n",
       "      <th>1</th>\n",
       "      <td>AALR3F</td>\n",
       "      <td>20180102</td>\n",
       "      <td>14.79</td>\n",
       "      <td>14.93</td>\n",
       "      <td>14.79</td>\n",
       "      <td>14.86</td>\n",
       "      <td>14.80</td>\n",
       "      <td>14.73</td>\n",
       "      <td>15.16</td>\n",
       "      <td>225</td>\n",
       "      <td>0.000676</td>\n",
       "      <td>False</td>\n",
       "    </tr>\n",
       "    <tr>\n",
       "      <th>2</th>\n",
       "      <td>AAPL34</td>\n",
       "      <td>20180102</td>\n",
       "      <td>56.81</td>\n",
       "      <td>56.81</td>\n",
       "      <td>56.30</td>\n",
       "      <td>56.38</td>\n",
       "      <td>56.30</td>\n",
       "      <td>55.00</td>\n",
       "      <td>56.30</td>\n",
       "      <td>900</td>\n",
       "      <td>-0.009059</td>\n",
       "      <td>False</td>\n",
       "    </tr>\n",
       "    <tr>\n",
       "      <th>3</th>\n",
       "      <td>AAPL34F</td>\n",
       "      <td>20180102</td>\n",
       "      <td>56.81</td>\n",
       "      <td>65.00</td>\n",
       "      <td>56.54</td>\n",
       "      <td>59.63</td>\n",
       "      <td>56.54</td>\n",
       "      <td>54.59</td>\n",
       "      <td>62.00</td>\n",
       "      <td>61</td>\n",
       "      <td>-0.004775</td>\n",
       "      <td>False</td>\n",
       "    </tr>\n",
       "    <tr>\n",
       "      <th>4</th>\n",
       "      <td>ABCB2</td>\n",
       "      <td>20180102</td>\n",
       "      <td>4.11</td>\n",
       "      <td>4.20</td>\n",
       "      <td>4.11</td>\n",
       "      <td>4.14</td>\n",
       "      <td>4.20</td>\n",
       "      <td>4.13</td>\n",
       "      <td>6.00</td>\n",
       "      <td>1200</td>\n",
       "      <td>0.021429</td>\n",
       "      <td>True</td>\n",
       "    </tr>\n",
       "  </tbody>\n",
       "</table>\n",
       "</div>"
      ],
      "text/plain": [
       "    CODNEG  DATAPREGAO  PREABE  PREMAX  PREMIN  PREMED  PREULT  PREOFC  \\\n",
       "0    AALR3    20180102   14.94   15.16   14.70   14.84   14.89   14.75   \n",
       "1   AALR3F    20180102   14.79   14.93   14.79   14.86   14.80   14.73   \n",
       "2   AAPL34    20180102   56.81   56.81   56.30   56.38   56.30   55.00   \n",
       "3  AAPL34F    20180102   56.81   65.00   56.54   59.63   56.54   54.59   \n",
       "4    ABCB2    20180102    4.11    4.20    4.11    4.14    4.20    4.13   \n",
       "\n",
       "   PREOFV  QUATOT  _VALORIZACAO  _BOAOPORTUNIDADE  \n",
       "0   14.89   94500     -0.003358             False  \n",
       "1   15.16     225      0.000676             False  \n",
       "2   56.30     900     -0.009059             False  \n",
       "3   62.00      61     -0.004775             False  \n",
       "4    6.00    1200      0.021429              True  "
      ]
     },
     "execution_count": 32,
     "metadata": {},
     "output_type": "execute_result"
    }
   ],
   "source": [
    "bovespa.head()"
   ]
  },
  {
   "cell_type": "code",
   "execution_count": 37,
   "metadata": {},
   "outputs": [
    {
     "data": {
      "text/plain": [
       "_BOAOPORTUNIDADE\n",
       "False    193513\n",
       "True      43830\n",
       "dtype: int64"
      ]
     },
     "execution_count": 37,
     "metadata": {},
     "output_type": "execute_result"
    }
   ],
   "source": [
    "bovespa.groupby(['_BOAOPORTUNIDADE']).size()"
   ]
  },
  {
   "cell_type": "markdown",
   "metadata": {},
   "source": [
    "Tivemos então, durante o ano de 2018 e até esta data *(1/junho)*, 43 mil oportunidades de ganho (uau :o)"
   ]
  },
  {
   "cell_type": "markdown",
   "metadata": {},
   "source": [
    "### ... mas vendo as consequências para amanhã"
   ]
  },
  {
   "cell_type": "markdown",
   "metadata": {},
   "source": [
    "Uma segunda consideracão é com relação a quando receberemos a notificação.\n",
    "\n",
    "Imaginando o dia a dia de trabalho em uma financeira, acreditamos que, ao final do dia, o corretor de ações atualizará a base com as informações oficiais do dia de trabalho e obterá uma relação de possíveis bons negócios para o dia seguinte. Assim sendo, devemos ser capazes de identificar quais ações serão boas para amanhã (e não para hoje, que é o que mostramos na coluna de _BOAOPORTUNIDADE).\n",
    "\n",
    "Fazemos então uma verificação de quais acões se mostraram valorizadas no dia seguinte com base nas informações que temos hoje."
   ]
  },
  {
   "cell_type": "markdown",
   "metadata": {},
   "source": [
    "#### criando um índice para os pregões"
   ]
  },
  {
   "cell_type": "code",
   "execution_count": 81,
   "metadata": {},
   "outputs": [],
   "source": [
    "indices_para_as_datas = {}\n",
    "for i,e in enumerate(datas):\n",
    "    indices_para_as_datas[e] = i"
   ]
  },
  {
   "cell_type": "code",
   "execution_count": 85,
   "metadata": {},
   "outputs": [],
   "source": [
    "bovespa['_INDICEPREGAO'] = bovespa['DATAPREGAO'].replace(indices_para_as_datas)"
   ]
  },
  {
   "cell_type": "code",
   "execution_count": 86,
   "metadata": {},
   "outputs": [
    {
     "data": {
      "text/html": [
       "<div>\n",
       "<style scoped>\n",
       "    .dataframe tbody tr th:only-of-type {\n",
       "        vertical-align: middle;\n",
       "    }\n",
       "\n",
       "    .dataframe tbody tr th {\n",
       "        vertical-align: top;\n",
       "    }\n",
       "\n",
       "    .dataframe thead th {\n",
       "        text-align: right;\n",
       "    }\n",
       "</style>\n",
       "<table border=\"1\" class=\"dataframe\">\n",
       "  <thead>\n",
       "    <tr style=\"text-align: right;\">\n",
       "      <th></th>\n",
       "      <th>CODNEG</th>\n",
       "      <th>DATAPREGAO</th>\n",
       "      <th>PREABE</th>\n",
       "      <th>PREMAX</th>\n",
       "      <th>PREMIN</th>\n",
       "      <th>PREMED</th>\n",
       "      <th>PREULT</th>\n",
       "      <th>PREOFC</th>\n",
       "      <th>PREOFV</th>\n",
       "      <th>QUATOT</th>\n",
       "      <th>_VALORIZACAO</th>\n",
       "      <th>_BOAOPORTUNIDADE</th>\n",
       "      <th>_INDICEPREGAO</th>\n",
       "    </tr>\n",
       "  </thead>\n",
       "  <tbody>\n",
       "    <tr>\n",
       "      <th>0</th>\n",
       "      <td>AALR3</td>\n",
       "      <td>20180102</td>\n",
       "      <td>14.94</td>\n",
       "      <td>15.16</td>\n",
       "      <td>14.7</td>\n",
       "      <td>14.84</td>\n",
       "      <td>14.89</td>\n",
       "      <td>14.75</td>\n",
       "      <td>14.89</td>\n",
       "      <td>94500</td>\n",
       "      <td>-0.003358</td>\n",
       "      <td>False</td>\n",
       "      <td>0</td>\n",
       "    </tr>\n",
       "  </tbody>\n",
       "</table>\n",
       "</div>"
      ],
      "text/plain": [
       "  CODNEG  DATAPREGAO  PREABE  PREMAX  PREMIN  PREMED  PREULT  PREOFC  PREOFV  \\\n",
       "0  AALR3    20180102   14.94   15.16    14.7   14.84   14.89   14.75   14.89   \n",
       "\n",
       "   QUATOT  _VALORIZACAO  _BOAOPORTUNIDADE  _INDICEPREGAO  \n",
       "0   94500     -0.003358             False              0  "
      ]
     },
     "execution_count": 86,
     "metadata": {},
     "output_type": "execute_result"
    }
   ],
   "source": [
    "bovespa.head(1)"
   ]
  },
  {
   "cell_type": "markdown",
   "metadata": {},
   "source": [
    "#### Incluindo o valor de _BOAOPORTUNIDADE do próximo pregão"
   ]
  },
  {
   "cell_type": "code",
   "execution_count": 162,
   "metadata": {},
   "outputs": [],
   "source": [
    "bovespa_proximo_dia = bovespa.loc[:,('CODNEG','_INDICEPREGAO','_BOAOPORTUNIDADE')]"
   ]
  },
  {
   "cell_type": "code",
   "execution_count": 163,
   "metadata": {},
   "outputs": [],
   "source": [
    "bovespa_proximo_dia['_INDICEPREGAO'] = bovespa_proximo_dia._INDICEPREGAO-1"
   ]
  },
  {
   "cell_type": "code",
   "execution_count": 164,
   "metadata": {},
   "outputs": [],
   "source": [
    "bovespa_proximo_dia.rename(columns={'_BOAOPORTUNIDADE': '_BOAOPORTUNIDADEPROXIMOPREGAO'}, inplace=True)"
   ]
  },
  {
   "cell_type": "code",
   "execution_count": 165,
   "metadata": {},
   "outputs": [],
   "source": [
    "bovespa_completa = bovespa.merge(bovespa_proximo_dia, \\\n",
    "                                 how='inner', \\\n",
    "                                 left_on=['CODNEG', '_INDICEPREGAO'], \\\n",
    "                                 right_on=['CODNEG', '_INDICEPREGAO'])"
   ]
  },
  {
   "cell_type": "code",
   "execution_count": 166,
   "metadata": {
    "scrolled": true
   },
   "outputs": [
    {
     "data": {
      "text/html": [
       "<div>\n",
       "<style scoped>\n",
       "    .dataframe tbody tr th:only-of-type {\n",
       "        vertical-align: middle;\n",
       "    }\n",
       "\n",
       "    .dataframe tbody tr th {\n",
       "        vertical-align: top;\n",
       "    }\n",
       "\n",
       "    .dataframe thead th {\n",
       "        text-align: right;\n",
       "    }\n",
       "</style>\n",
       "<table border=\"1\" class=\"dataframe\">\n",
       "  <thead>\n",
       "    <tr style=\"text-align: right;\">\n",
       "      <th></th>\n",
       "      <th>CODNEG</th>\n",
       "      <th>_INDICEPREGAO</th>\n",
       "      <th>DATAPREGAO</th>\n",
       "      <th>PREABE</th>\n",
       "      <th>PREMAX</th>\n",
       "      <th>PREMIN</th>\n",
       "      <th>PREMED</th>\n",
       "      <th>PREULT</th>\n",
       "      <th>PREOFC</th>\n",
       "      <th>PREOFV</th>\n",
       "      <th>QUATOT</th>\n",
       "      <th>_VALORIZACAO</th>\n",
       "      <th>_BOAOPORTUNIDADE</th>\n",
       "      <th>_BOAOPORTUNIDADEPROXIMOPREGAO</th>\n",
       "    </tr>\n",
       "  </thead>\n",
       "  <tbody>\n",
       "    <tr>\n",
       "      <th>4</th>\n",
       "      <td>ABCB2</td>\n",
       "      <td>0</td>\n",
       "      <td>20180102</td>\n",
       "      <td>4.11</td>\n",
       "      <td>4.20</td>\n",
       "      <td>4.11</td>\n",
       "      <td>4.14</td>\n",
       "      <td>4.20</td>\n",
       "      <td>4.13</td>\n",
       "      <td>6.00</td>\n",
       "      <td>1200</td>\n",
       "      <td>0.021429</td>\n",
       "      <td>True</td>\n",
       "      <td>False</td>\n",
       "    </tr>\n",
       "    <tr>\n",
       "      <th>1819</th>\n",
       "      <td>ABCB2</td>\n",
       "      <td>1</td>\n",
       "      <td>20180103</td>\n",
       "      <td>4.20</td>\n",
       "      <td>4.50</td>\n",
       "      <td>4.01</td>\n",
       "      <td>4.20</td>\n",
       "      <td>4.21</td>\n",
       "      <td>4.20</td>\n",
       "      <td>4.60</td>\n",
       "      <td>3500</td>\n",
       "      <td>0.002375</td>\n",
       "      <td>False</td>\n",
       "      <td>False</td>\n",
       "    </tr>\n",
       "    <tr>\n",
       "      <th>3752</th>\n",
       "      <td>ABCB2</td>\n",
       "      <td>2</td>\n",
       "      <td>20180104</td>\n",
       "      <td>4.35</td>\n",
       "      <td>4.35</td>\n",
       "      <td>4.26</td>\n",
       "      <td>4.33</td>\n",
       "      <td>4.26</td>\n",
       "      <td>4.25</td>\n",
       "      <td>4.60</td>\n",
       "      <td>700</td>\n",
       "      <td>-0.021127</td>\n",
       "      <td>False</td>\n",
       "      <td>False</td>\n",
       "    </tr>\n",
       "    <tr>\n",
       "      <th>5651</th>\n",
       "      <td>ABCB2</td>\n",
       "      <td>3</td>\n",
       "      <td>20180105</td>\n",
       "      <td>4.38</td>\n",
       "      <td>4.70</td>\n",
       "      <td>3.98</td>\n",
       "      <td>4.29</td>\n",
       "      <td>4.35</td>\n",
       "      <td>4.25</td>\n",
       "      <td>4.58</td>\n",
       "      <td>24800</td>\n",
       "      <td>-0.006897</td>\n",
       "      <td>False</td>\n",
       "      <td>True</td>\n",
       "    </tr>\n",
       "    <tr>\n",
       "      <th>7484</th>\n",
       "      <td>ABCB2</td>\n",
       "      <td>4</td>\n",
       "      <td>20180108</td>\n",
       "      <td>4.37</td>\n",
       "      <td>4.95</td>\n",
       "      <td>4.37</td>\n",
       "      <td>4.60</td>\n",
       "      <td>4.51</td>\n",
       "      <td>4.51</td>\n",
       "      <td>4.90</td>\n",
       "      <td>17100</td>\n",
       "      <td>0.031042</td>\n",
       "      <td>True</td>\n",
       "      <td>False</td>\n",
       "    </tr>\n",
       "    <tr>\n",
       "      <th>9239</th>\n",
       "      <td>ABCB2</td>\n",
       "      <td>5</td>\n",
       "      <td>20180109</td>\n",
       "      <td>4.43</td>\n",
       "      <td>4.65</td>\n",
       "      <td>4.36</td>\n",
       "      <td>4.51</td>\n",
       "      <td>4.47</td>\n",
       "      <td>4.47</td>\n",
       "      <td>4.79</td>\n",
       "      <td>13600</td>\n",
       "      <td>0.008949</td>\n",
       "      <td>False</td>\n",
       "      <td>True</td>\n",
       "    </tr>\n",
       "    <tr>\n",
       "      <th>11093</th>\n",
       "      <td>ABCB2</td>\n",
       "      <td>6</td>\n",
       "      <td>20180110</td>\n",
       "      <td>4.58</td>\n",
       "      <td>4.78</td>\n",
       "      <td>4.50</td>\n",
       "      <td>4.61</td>\n",
       "      <td>4.70</td>\n",
       "      <td>4.55</td>\n",
       "      <td>4.79</td>\n",
       "      <td>6600</td>\n",
       "      <td>0.025532</td>\n",
       "      <td>True</td>\n",
       "      <td>True</td>\n",
       "    </tr>\n",
       "    <tr>\n",
       "      <th>13026</th>\n",
       "      <td>ABCB2</td>\n",
       "      <td>7</td>\n",
       "      <td>20180111</td>\n",
       "      <td>4.66</td>\n",
       "      <td>5.20</td>\n",
       "      <td>4.60</td>\n",
       "      <td>4.87</td>\n",
       "      <td>4.91</td>\n",
       "      <td>4.91</td>\n",
       "      <td>5.00</td>\n",
       "      <td>27200</td>\n",
       "      <td>0.050916</td>\n",
       "      <td>True</td>\n",
       "      <td>False</td>\n",
       "    </tr>\n",
       "    <tr>\n",
       "      <th>15172</th>\n",
       "      <td>ABCB2</td>\n",
       "      <td>8</td>\n",
       "      <td>20180112</td>\n",
       "      <td>4.80</td>\n",
       "      <td>4.85</td>\n",
       "      <td>4.66</td>\n",
       "      <td>4.79</td>\n",
       "      <td>4.80</td>\n",
       "      <td>4.72</td>\n",
       "      <td>4.85</td>\n",
       "      <td>36600</td>\n",
       "      <td>0.000000</td>\n",
       "      <td>False</td>\n",
       "      <td>False</td>\n",
       "    </tr>\n",
       "    <tr>\n",
       "      <th>16887</th>\n",
       "      <td>ABCB2</td>\n",
       "      <td>9</td>\n",
       "      <td>20180115</td>\n",
       "      <td>4.82</td>\n",
       "      <td>4.90</td>\n",
       "      <td>4.79</td>\n",
       "      <td>4.82</td>\n",
       "      <td>4.79</td>\n",
       "      <td>4.60</td>\n",
       "      <td>4.81</td>\n",
       "      <td>30600</td>\n",
       "      <td>-0.006263</td>\n",
       "      <td>False</td>\n",
       "      <td>False</td>\n",
       "    </tr>\n",
       "    <tr>\n",
       "      <th>18694</th>\n",
       "      <td>ABCB2</td>\n",
       "      <td>10</td>\n",
       "      <td>20180116</td>\n",
       "      <td>4.86</td>\n",
       "      <td>4.93</td>\n",
       "      <td>4.75</td>\n",
       "      <td>4.83</td>\n",
       "      <td>4.79</td>\n",
       "      <td>4.71</td>\n",
       "      <td>4.85</td>\n",
       "      <td>110900</td>\n",
       "      <td>-0.014614</td>\n",
       "      <td>False</td>\n",
       "      <td>True</td>\n",
       "    </tr>\n",
       "    <tr>\n",
       "      <th>20630</th>\n",
       "      <td>ABCB2</td>\n",
       "      <td>11</td>\n",
       "      <td>20180117</td>\n",
       "      <td>4.85</td>\n",
       "      <td>5.24</td>\n",
       "      <td>4.84</td>\n",
       "      <td>4.96</td>\n",
       "      <td>5.13</td>\n",
       "      <td>4.80</td>\n",
       "      <td>5.10</td>\n",
       "      <td>55800</td>\n",
       "      <td>0.054581</td>\n",
       "      <td>True</td>\n",
       "      <td>True</td>\n",
       "    </tr>\n",
       "    <tr>\n",
       "      <th>22425</th>\n",
       "      <td>ABCB2</td>\n",
       "      <td>12</td>\n",
       "      <td>20180118</td>\n",
       "      <td>4.95</td>\n",
       "      <td>5.14</td>\n",
       "      <td>4.76</td>\n",
       "      <td>4.97</td>\n",
       "      <td>5.14</td>\n",
       "      <td>4.96</td>\n",
       "      <td>5.18</td>\n",
       "      <td>13800</td>\n",
       "      <td>0.036965</td>\n",
       "      <td>True</td>\n",
       "      <td>False</td>\n",
       "    </tr>\n",
       "    <tr>\n",
       "      <th>24030</th>\n",
       "      <td>ABCB2</td>\n",
       "      <td>13</td>\n",
       "      <td>20180119</td>\n",
       "      <td>5.20</td>\n",
       "      <td>5.25</td>\n",
       "      <td>4.90</td>\n",
       "      <td>5.08</td>\n",
       "      <td>5.15</td>\n",
       "      <td>5.17</td>\n",
       "      <td>5.35</td>\n",
       "      <td>10400</td>\n",
       "      <td>-0.009709</td>\n",
       "      <td>False</td>\n",
       "      <td>False</td>\n",
       "    </tr>\n",
       "    <tr>\n",
       "      <th>25622</th>\n",
       "      <td>ABCB2</td>\n",
       "      <td>14</td>\n",
       "      <td>20180122</td>\n",
       "      <td>5.30</td>\n",
       "      <td>5.40</td>\n",
       "      <td>5.02</td>\n",
       "      <td>5.30</td>\n",
       "      <td>5.40</td>\n",
       "      <td>5.30</td>\n",
       "      <td>5.40</td>\n",
       "      <td>18200</td>\n",
       "      <td>0.018519</td>\n",
       "      <td>False</td>\n",
       "      <td>False</td>\n",
       "    </tr>\n",
       "    <tr>\n",
       "      <th>27419</th>\n",
       "      <td>ABCB2</td>\n",
       "      <td>15</td>\n",
       "      <td>20180123</td>\n",
       "      <td>5.39</td>\n",
       "      <td>5.40</td>\n",
       "      <td>5.20</td>\n",
       "      <td>5.30</td>\n",
       "      <td>5.34</td>\n",
       "      <td>4.50</td>\n",
       "      <td>5.34</td>\n",
       "      <td>11300</td>\n",
       "      <td>-0.009363</td>\n",
       "      <td>False</td>\n",
       "      <td>True</td>\n",
       "    </tr>\n",
       "    <tr>\n",
       "      <th>29319</th>\n",
       "      <td>ABCB2</td>\n",
       "      <td>16</td>\n",
       "      <td>20180124</td>\n",
       "      <td>5.35</td>\n",
       "      <td>5.57</td>\n",
       "      <td>5.10</td>\n",
       "      <td>5.25</td>\n",
       "      <td>5.57</td>\n",
       "      <td>5.26</td>\n",
       "      <td>5.68</td>\n",
       "      <td>19600</td>\n",
       "      <td>0.039497</td>\n",
       "      <td>True</td>\n",
       "      <td>False</td>\n",
       "    </tr>\n",
       "  </tbody>\n",
       "</table>\n",
       "</div>"
      ],
      "text/plain": [
       "      CODNEG  _INDICEPREGAO  DATAPREGAO  PREABE  PREMAX  PREMIN  PREMED  \\\n",
       "4      ABCB2              0    20180102    4.11    4.20    4.11    4.14   \n",
       "1819   ABCB2              1    20180103    4.20    4.50    4.01    4.20   \n",
       "3752   ABCB2              2    20180104    4.35    4.35    4.26    4.33   \n",
       "5651   ABCB2              3    20180105    4.38    4.70    3.98    4.29   \n",
       "7484   ABCB2              4    20180108    4.37    4.95    4.37    4.60   \n",
       "9239   ABCB2              5    20180109    4.43    4.65    4.36    4.51   \n",
       "11093  ABCB2              6    20180110    4.58    4.78    4.50    4.61   \n",
       "13026  ABCB2              7    20180111    4.66    5.20    4.60    4.87   \n",
       "15172  ABCB2              8    20180112    4.80    4.85    4.66    4.79   \n",
       "16887  ABCB2              9    20180115    4.82    4.90    4.79    4.82   \n",
       "18694  ABCB2             10    20180116    4.86    4.93    4.75    4.83   \n",
       "20630  ABCB2             11    20180117    4.85    5.24    4.84    4.96   \n",
       "22425  ABCB2             12    20180118    4.95    5.14    4.76    4.97   \n",
       "24030  ABCB2             13    20180119    5.20    5.25    4.90    5.08   \n",
       "25622  ABCB2             14    20180122    5.30    5.40    5.02    5.30   \n",
       "27419  ABCB2             15    20180123    5.39    5.40    5.20    5.30   \n",
       "29319  ABCB2             16    20180124    5.35    5.57    5.10    5.25   \n",
       "\n",
       "       PREULT  PREOFC  PREOFV  QUATOT  _VALORIZACAO  _BOAOPORTUNIDADE  \\\n",
       "4        4.20    4.13    6.00    1200      0.021429              True   \n",
       "1819     4.21    4.20    4.60    3500      0.002375             False   \n",
       "3752     4.26    4.25    4.60     700     -0.021127             False   \n",
       "5651     4.35    4.25    4.58   24800     -0.006897             False   \n",
       "7484     4.51    4.51    4.90   17100      0.031042              True   \n",
       "9239     4.47    4.47    4.79   13600      0.008949             False   \n",
       "11093    4.70    4.55    4.79    6600      0.025532              True   \n",
       "13026    4.91    4.91    5.00   27200      0.050916              True   \n",
       "15172    4.80    4.72    4.85   36600      0.000000             False   \n",
       "16887    4.79    4.60    4.81   30600     -0.006263             False   \n",
       "18694    4.79    4.71    4.85  110900     -0.014614             False   \n",
       "20630    5.13    4.80    5.10   55800      0.054581              True   \n",
       "22425    5.14    4.96    5.18   13800      0.036965              True   \n",
       "24030    5.15    5.17    5.35   10400     -0.009709             False   \n",
       "25622    5.40    5.30    5.40   18200      0.018519             False   \n",
       "27419    5.34    4.50    5.34   11300     -0.009363             False   \n",
       "29319    5.57    5.26    5.68   19600      0.039497              True   \n",
       "\n",
       "       _BOAOPORTUNIDADEPROXIMOPREGAO  \n",
       "4                              False  \n",
       "1819                           False  \n",
       "3752                           False  \n",
       "5651                            True  \n",
       "7484                           False  \n",
       "9239                            True  \n",
       "11093                           True  \n",
       "13026                          False  \n",
       "15172                          False  \n",
       "16887                          False  \n",
       "18694                           True  \n",
       "20630                           True  \n",
       "22425                          False  \n",
       "24030                          False  \n",
       "25622                          False  \n",
       "27419                           True  \n",
       "29319                          False  "
      ]
     },
     "execution_count": 166,
     "metadata": {},
     "output_type": "execute_result"
    }
   ],
   "source": [
    "bovespa_completa[bovespa_completa.CODNEG == 'ABCB2']"
   ]
  },
  {
   "cell_type": "markdown",
   "metadata": {},
   "source": [
    "## Preparando nossa base para o treino"
   ]
  },
  {
   "cell_type": "code",
   "execution_count": 167,
   "metadata": {},
   "outputs": [
    {
     "data": {
      "text/plain": [
       "_BOAOPORTUNIDADEPROXIMOPREGAO\n",
       "False    157507\n",
       "True      35559\n",
       "dtype: int64"
      ]
     },
     "execution_count": 167,
     "metadata": {},
     "output_type": "execute_result"
    }
   ],
   "source": [
    "bovespa_completa.groupby('_BOAOPORTUNIDADEPROXIMOPREGAO').size()"
   ]
  },
  {
   "cell_type": "markdown",
   "metadata": {},
   "source": [
    "<font color=blue>Nota</font> Temos um problema de desbalanceamento nas nossas informações. Optamos por balancear reduzindo a quantidade do maior grupo até a quantidade do menor grupo."
   ]
  },
  {
   "cell_type": "code",
   "execution_count": 168,
   "metadata": {},
   "outputs": [],
   "source": [
    "import numpy as np"
   ]
  },
  {
   "cell_type": "code",
   "execution_count": 170,
   "metadata": {},
   "outputs": [],
   "source": [
    "indices_positivos = bovespa_completa[bovespa_completa._BOAOPORTUNIDADEPROXIMOPREGAO].index.values"
   ]
  },
  {
   "cell_type": "code",
   "execution_count": 171,
   "metadata": {},
   "outputs": [],
   "source": [
    "indices_negativos = bovespa_completa[~bovespa_completa._BOAOPORTUNIDADEPROXIMOPREGAO].index.values"
   ]
  },
  {
   "cell_type": "code",
   "execution_count": 172,
   "metadata": {},
   "outputs": [
    {
     "name": "stdout",
     "output_type": "stream",
     "text": [
      "35559 157507\n"
     ]
    }
   ],
   "source": [
    "print len(indices_positivos), len(indices_negativos)"
   ]
  },
  {
   "cell_type": "code",
   "execution_count": 173,
   "metadata": {},
   "outputs": [],
   "source": [
    "indices_negativos_selecionados = np.random.choice(indices_negativos, size=len(indices_positivos), replace=False)"
   ]
  },
  {
   "cell_type": "code",
   "execution_count": 174,
   "metadata": {},
   "outputs": [
    {
     "name": "stdout",
     "output_type": "stream",
     "text": [
      "35559\n"
     ]
    }
   ],
   "source": [
    "print len(indices_negativos_selecionados)"
   ]
  },
  {
   "cell_type": "code",
   "execution_count": 183,
   "metadata": {},
   "outputs": [],
   "source": [
    "bovespa_para_treino = pd.concat([bovespa_completa.iloc[indices_positivos], \\\n",
    "                                 bovespa_completa.iloc[indices_negativos_selecionados]])"
   ]
  },
  {
   "cell_type": "code",
   "execution_count": 184,
   "metadata": {},
   "outputs": [
    {
     "data": {
      "text/plain": [
       "_BOAOPORTUNIDADEPROXIMOPREGAO\n",
       "False    35559\n",
       "True     35559\n",
       "dtype: int64"
      ]
     },
     "execution_count": 184,
     "metadata": {},
     "output_type": "execute_result"
    }
   ],
   "source": [
    "bovespa_para_treino.groupby('_BOAOPORTUNIDADEPROXIMOPREGAO').size()"
   ]
  },
  {
   "cell_type": "markdown",
   "metadata": {},
   "source": [
    "<font color=green>Pensamento ;)</font> Eu acho que estamos começando a gostar de python :)"
   ]
  },
  {
   "cell_type": "markdown",
   "metadata": {},
   "source": [
    "Com isto entregamos uma base **base_para_treino** que servirá para os processos de treino e predição."
   ]
  },
  {
   "cell_type": "markdown",
   "metadata": {},
   "source": [
    "## Realizando o treino"
   ]
  },
  {
   "cell_type": "markdown",
   "metadata": {},
   "source": [
    "### Retirando colunas desnecessárias"
   ]
  },
  {
   "cell_type": "code",
   "execution_count": 185,
   "metadata": {},
   "outputs": [
    {
     "data": {
      "text/plain": [
       "Index([u'CODNEG', u'_INDICEPREGAO', u'DATAPREGAO', u'PREABE', u'PREMAX',\n",
       "       u'PREMIN', u'PREMED', u'PREULT', u'PREOFC', u'PREOFV', u'QUATOT',\n",
       "       u'_VALORIZACAO', u'_BOAOPORTUNIDADE', u'_BOAOPORTUNIDADEPROXIMOPREGAO'],\n",
       "      dtype='object')"
      ]
     },
     "execution_count": 185,
     "metadata": {},
     "output_type": "execute_result"
    }
   ],
   "source": [
    "bovespa_para_treino.columns"
   ]
  },
  {
   "cell_type": "code",
   "execution_count": 186,
   "metadata": {},
   "outputs": [],
   "source": [
    "bovespa_para_treino.drop(['CODNEG','_INDICEPREGAO','DATAPREGAO','_BOAOPORTUNIDADE'], axis=1, inplace=True)"
   ]
  },
  {
   "cell_type": "code",
   "execution_count": 187,
   "metadata": {},
   "outputs": [
    {
     "data": {
      "text/html": [
       "<div>\n",
       "<style scoped>\n",
       "    .dataframe tbody tr th:only-of-type {\n",
       "        vertical-align: middle;\n",
       "    }\n",
       "\n",
       "    .dataframe tbody tr th {\n",
       "        vertical-align: top;\n",
       "    }\n",
       "\n",
       "    .dataframe thead th {\n",
       "        text-align: right;\n",
       "    }\n",
       "</style>\n",
       "<table border=\"1\" class=\"dataframe\">\n",
       "  <thead>\n",
       "    <tr style=\"text-align: right;\">\n",
       "      <th></th>\n",
       "      <th>PREABE</th>\n",
       "      <th>PREMAX</th>\n",
       "      <th>PREMIN</th>\n",
       "      <th>PREMED</th>\n",
       "      <th>PREULT</th>\n",
       "      <th>PREOFC</th>\n",
       "      <th>PREOFV</th>\n",
       "      <th>QUATOT</th>\n",
       "      <th>_VALORIZACAO</th>\n",
       "      <th>_BOAOPORTUNIDADEPROXIMOPREGAO</th>\n",
       "    </tr>\n",
       "  </thead>\n",
       "  <tbody>\n",
       "    <tr>\n",
       "      <th>5</th>\n",
       "      <td>4.01</td>\n",
       "      <td>4.20</td>\n",
       "      <td>4.01</td>\n",
       "      <td>4.12</td>\n",
       "      <td>4.20</td>\n",
       "      <td>4.08</td>\n",
       "      <td>4.20</td>\n",
       "      <td>222</td>\n",
       "      <td>0.045238</td>\n",
       "      <td>True</td>\n",
       "    </tr>\n",
       "    <tr>\n",
       "      <th>19</th>\n",
       "      <td>0.13</td>\n",
       "      <td>0.28</td>\n",
       "      <td>0.13</td>\n",
       "      <td>0.20</td>\n",
       "      <td>0.25</td>\n",
       "      <td>0.22</td>\n",
       "      <td>0.25</td>\n",
       "      <td>209200</td>\n",
       "      <td>0.480000</td>\n",
       "      <td>True</td>\n",
       "    </tr>\n",
       "    <tr>\n",
       "      <th>24</th>\n",
       "      <td>0.50</td>\n",
       "      <td>0.81</td>\n",
       "      <td>0.50</td>\n",
       "      <td>0.54</td>\n",
       "      <td>0.81</td>\n",
       "      <td>0.50</td>\n",
       "      <td>0.00</td>\n",
       "      <td>6100</td>\n",
       "      <td>0.382716</td>\n",
       "      <td>True</td>\n",
       "    </tr>\n",
       "    <tr>\n",
       "      <th>26</th>\n",
       "      <td>0.40</td>\n",
       "      <td>0.49</td>\n",
       "      <td>0.37</td>\n",
       "      <td>0.48</td>\n",
       "      <td>0.49</td>\n",
       "      <td>0.02</td>\n",
       "      <td>0.00</td>\n",
       "      <td>2014900</td>\n",
       "      <td>0.183673</td>\n",
       "      <td>True</td>\n",
       "    </tr>\n",
       "    <tr>\n",
       "      <th>27</th>\n",
       "      <td>0.07</td>\n",
       "      <td>0.07</td>\n",
       "      <td>0.07</td>\n",
       "      <td>0.07</td>\n",
       "      <td>0.07</td>\n",
       "      <td>0.00</td>\n",
       "      <td>0.22</td>\n",
       "      <td>94600</td>\n",
       "      <td>0.000000</td>\n",
       "      <td>True</td>\n",
       "    </tr>\n",
       "  </tbody>\n",
       "</table>\n",
       "</div>"
      ],
      "text/plain": [
       "    PREABE  PREMAX  PREMIN  PREMED  PREULT  PREOFC  PREOFV   QUATOT  \\\n",
       "5     4.01    4.20    4.01    4.12    4.20    4.08    4.20      222   \n",
       "19    0.13    0.28    0.13    0.20    0.25    0.22    0.25   209200   \n",
       "24    0.50    0.81    0.50    0.54    0.81    0.50    0.00     6100   \n",
       "26    0.40    0.49    0.37    0.48    0.49    0.02    0.00  2014900   \n",
       "27    0.07    0.07    0.07    0.07    0.07    0.00    0.22    94600   \n",
       "\n",
       "    _VALORIZACAO  _BOAOPORTUNIDADEPROXIMOPREGAO  \n",
       "5       0.045238                           True  \n",
       "19      0.480000                           True  \n",
       "24      0.382716                           True  \n",
       "26      0.183673                           True  \n",
       "27      0.000000                           True  "
      ]
     },
     "execution_count": 187,
     "metadata": {},
     "output_type": "execute_result"
    }
   ],
   "source": [
    "bovespa_para_treino.head()"
   ]
  },
  {
   "cell_type": "code",
   "execution_count": 194,
   "metadata": {},
   "outputs": [],
   "source": [
    "y = bovespa_para_treino[['_BOAOPORTUNIDADEPROXIMOPREGAO']]"
   ]
  },
  {
   "cell_type": "code",
   "execution_count": 197,
   "metadata": {},
   "outputs": [
    {
     "data": {
      "text/html": [
       "<div>\n",
       "<style scoped>\n",
       "    .dataframe tbody tr th:only-of-type {\n",
       "        vertical-align: middle;\n",
       "    }\n",
       "\n",
       "    .dataframe tbody tr th {\n",
       "        vertical-align: top;\n",
       "    }\n",
       "\n",
       "    .dataframe thead th {\n",
       "        text-align: right;\n",
       "    }\n",
       "</style>\n",
       "<table border=\"1\" class=\"dataframe\">\n",
       "  <thead>\n",
       "    <tr style=\"text-align: right;\">\n",
       "      <th></th>\n",
       "      <th>_BOAOPORTUNIDADEPROXIMOPREGAO</th>\n",
       "    </tr>\n",
       "  </thead>\n",
       "  <tbody>\n",
       "    <tr>\n",
       "      <th>5</th>\n",
       "      <td>True</td>\n",
       "    </tr>\n",
       "    <tr>\n",
       "      <th>19</th>\n",
       "      <td>True</td>\n",
       "    </tr>\n",
       "    <tr>\n",
       "      <th>24</th>\n",
       "      <td>True</td>\n",
       "    </tr>\n",
       "    <tr>\n",
       "      <th>26</th>\n",
       "      <td>True</td>\n",
       "    </tr>\n",
       "    <tr>\n",
       "      <th>27</th>\n",
       "      <td>True</td>\n",
       "    </tr>\n",
       "  </tbody>\n",
       "</table>\n",
       "</div>"
      ],
      "text/plain": [
       "    _BOAOPORTUNIDADEPROXIMOPREGAO\n",
       "5                            True\n",
       "19                           True\n",
       "24                           True\n",
       "26                           True\n",
       "27                           True"
      ]
     },
     "execution_count": 197,
     "metadata": {},
     "output_type": "execute_result"
    }
   ],
   "source": [
    "y.head()"
   ]
  },
  {
   "cell_type": "code",
   "execution_count": 192,
   "metadata": {},
   "outputs": [],
   "source": [
    "X = bovespa_para_treino.drop(['_BOAOPORTUNIDADEPROXIMOPREGAO'], axis=1)"
   ]
  },
  {
   "cell_type": "code",
   "execution_count": 193,
   "metadata": {},
   "outputs": [
    {
     "data": {
      "text/html": [
       "<div>\n",
       "<style scoped>\n",
       "    .dataframe tbody tr th:only-of-type {\n",
       "        vertical-align: middle;\n",
       "    }\n",
       "\n",
       "    .dataframe tbody tr th {\n",
       "        vertical-align: top;\n",
       "    }\n",
       "\n",
       "    .dataframe thead th {\n",
       "        text-align: right;\n",
       "    }\n",
       "</style>\n",
       "<table border=\"1\" class=\"dataframe\">\n",
       "  <thead>\n",
       "    <tr style=\"text-align: right;\">\n",
       "      <th></th>\n",
       "      <th>PREABE</th>\n",
       "      <th>PREMAX</th>\n",
       "      <th>PREMIN</th>\n",
       "      <th>PREMED</th>\n",
       "      <th>PREULT</th>\n",
       "      <th>PREOFC</th>\n",
       "      <th>PREOFV</th>\n",
       "      <th>QUATOT</th>\n",
       "      <th>_VALORIZACAO</th>\n",
       "    </tr>\n",
       "  </thead>\n",
       "  <tbody>\n",
       "    <tr>\n",
       "      <th>5</th>\n",
       "      <td>4.01</td>\n",
       "      <td>4.20</td>\n",
       "      <td>4.01</td>\n",
       "      <td>4.12</td>\n",
       "      <td>4.20</td>\n",
       "      <td>4.08</td>\n",
       "      <td>4.20</td>\n",
       "      <td>222</td>\n",
       "      <td>0.045238</td>\n",
       "    </tr>\n",
       "    <tr>\n",
       "      <th>19</th>\n",
       "      <td>0.13</td>\n",
       "      <td>0.28</td>\n",
       "      <td>0.13</td>\n",
       "      <td>0.20</td>\n",
       "      <td>0.25</td>\n",
       "      <td>0.22</td>\n",
       "      <td>0.25</td>\n",
       "      <td>209200</td>\n",
       "      <td>0.480000</td>\n",
       "    </tr>\n",
       "    <tr>\n",
       "      <th>24</th>\n",
       "      <td>0.50</td>\n",
       "      <td>0.81</td>\n",
       "      <td>0.50</td>\n",
       "      <td>0.54</td>\n",
       "      <td>0.81</td>\n",
       "      <td>0.50</td>\n",
       "      <td>0.00</td>\n",
       "      <td>6100</td>\n",
       "      <td>0.382716</td>\n",
       "    </tr>\n",
       "    <tr>\n",
       "      <th>26</th>\n",
       "      <td>0.40</td>\n",
       "      <td>0.49</td>\n",
       "      <td>0.37</td>\n",
       "      <td>0.48</td>\n",
       "      <td>0.49</td>\n",
       "      <td>0.02</td>\n",
       "      <td>0.00</td>\n",
       "      <td>2014900</td>\n",
       "      <td>0.183673</td>\n",
       "    </tr>\n",
       "    <tr>\n",
       "      <th>27</th>\n",
       "      <td>0.07</td>\n",
       "      <td>0.07</td>\n",
       "      <td>0.07</td>\n",
       "      <td>0.07</td>\n",
       "      <td>0.07</td>\n",
       "      <td>0.00</td>\n",
       "      <td>0.22</td>\n",
       "      <td>94600</td>\n",
       "      <td>0.000000</td>\n",
       "    </tr>\n",
       "  </tbody>\n",
       "</table>\n",
       "</div>"
      ],
      "text/plain": [
       "    PREABE  PREMAX  PREMIN  PREMED  PREULT  PREOFC  PREOFV   QUATOT  \\\n",
       "5     4.01    4.20    4.01    4.12    4.20    4.08    4.20      222   \n",
       "19    0.13    0.28    0.13    0.20    0.25    0.22    0.25   209200   \n",
       "24    0.50    0.81    0.50    0.54    0.81    0.50    0.00     6100   \n",
       "26    0.40    0.49    0.37    0.48    0.49    0.02    0.00  2014900   \n",
       "27    0.07    0.07    0.07    0.07    0.07    0.00    0.22    94600   \n",
       "\n",
       "    _VALORIZACAO  \n",
       "5       0.045238  \n",
       "19      0.480000  \n",
       "24      0.382716  \n",
       "26      0.183673  \n",
       "27      0.000000  "
      ]
     },
     "execution_count": 193,
     "metadata": {},
     "output_type": "execute_result"
    }
   ],
   "source": [
    "X.head()"
   ]
  },
  {
   "cell_type": "markdown",
   "metadata": {},
   "source": [
    "### Normalizando X"
   ]
  },
  {
   "cell_type": "code",
   "execution_count": 198,
   "metadata": {},
   "outputs": [],
   "source": [
    "from sklearn.preprocessing import Normalizer"
   ]
  },
  {
   "cell_type": "code",
   "execution_count": 199,
   "metadata": {},
   "outputs": [],
   "source": [
    "normalizer = Normalizer(\"l2\")"
   ]
  },
  {
   "cell_type": "code",
   "execution_count": 201,
   "metadata": {},
   "outputs": [],
   "source": [
    "X_normalizado = normalizer.fit_transform(X)"
   ]
  },
  {
   "cell_type": "code",
   "execution_count": 202,
   "metadata": {},
   "outputs": [
    {
     "data": {
      "text/plain": [
       "array([[ 1.80413494e-02,  1.88961764e-02,  1.80413494e-02, ...,\n",
       "         1.88961764e-02,  9.98797895e-01,  2.03530245e-04],\n",
       "       [ 6.21414914e-07,  1.33843212e-06,  6.21414914e-07, ...,\n",
       "         1.19502868e-06,  1.00000000e+00,  2.29445507e-06],\n",
       "       [ 8.19672104e-05,  1.32786881e-04,  8.19672104e-05, ...,\n",
       "         0.00000000e+00,  9.99999966e-01,  6.27403339e-05],\n",
       "       ...,\n",
       "       [ 4.58963328e-02,  4.59062799e-02,  4.58963328e-02, ...,\n",
       "         0.00000000e+00,  9.94718959e-01,  2.15540403e-07],\n",
       "       [ 2.02898551e-05,  2.31884058e-05,  1.66666666e-05, ...,\n",
       "         0.00000000e+00,  9.99999999e-01,  7.01262271e-06],\n",
       "       [ 1.62728135e-04,  1.62824197e-04,  1.61959644e-04, ...,\n",
       "         0.00000000e+00,  9.99999934e-01, -3.98595324e-08]])"
      ]
     },
     "execution_count": 202,
     "metadata": {},
     "output_type": "execute_result"
    }
   ],
   "source": [
    "X_normalizado"
   ]
  },
  {
   "cell_type": "markdown",
   "metadata": {},
   "source": [
    "### Separando X e y para treino e teste"
   ]
  },
  {
   "cell_type": "code",
   "execution_count": null,
   "metadata": {},
   "outputs": [],
   "source": []
  }
 ],
 "metadata": {
  "kernelspec": {
   "display_name": "Python 2",
   "language": "python",
   "name": "python2"
  },
  "language_info": {
   "codemirror_mode": {
    "name": "ipython",
    "version": 2
   },
   "file_extension": ".py",
   "mimetype": "text/x-python",
   "name": "python",
   "nbconvert_exporter": "python",
   "pygments_lexer": "ipython2",
   "version": "2.7.14"
  }
 },
 "nbformat": 4,
 "nbformat_minor": 2
}
